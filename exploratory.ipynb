{
 "cells": [
  {
   "cell_type": "markdown",
   "id": "61aca577",
   "metadata": {},
   "source": [
    "#### Run this cell\n"
   ]
  },
  {
   "cell_type": "code",
   "execution_count": null,
   "id": "92b2025f",
   "metadata": {},
   "outputs": [],
   "source": [
    "conda env create -f environment.yml\n",
    "conda activate dsp_env"
   ]
  },
  {
   "cell_type": "markdown",
   "id": "fae13221",
   "metadata": {},
   "source": []
  },
  {
   "cell_type": "code",
   "execution_count": 31,
   "id": "a1dfd95d",
   "metadata": {},
   "outputs": [
    {
     "name": "stdout",
     "output_type": "stream",
     "text": [
      "Raw data saved to: /home/prank/Documents/DataScience/DS_PowerPulse/data/raw.csv\n",
      "     datetime      Time  ... Sub_metering_2 Sub_metering_3\n",
      "0  16/12/2006  17:24:00  ...          1.000           17.0\n",
      "1  16/12/2006  17:25:00  ...          1.000           16.0\n",
      "2  16/12/2006  17:26:00  ...          2.000           17.0\n",
      "3  16/12/2006  17:27:00  ...          1.000           17.0\n",
      "4  16/12/2006  17:28:00  ...          1.000           17.0\n",
      "\n",
      "[5 rows x 9 columns]\n",
      "Columns in raw data: ['datetime', 'Time', 'Global_active_power', 'Global_reactive_power', 'Voltage', 'Global_intensity', 'Sub_metering_1', 'Sub_metering_2', 'Sub_metering_3']\n",
      "     datetime      Time  ... Sub_metering_2 Sub_metering_3\n",
      "0  16/12/2006  17:24:00  ...          1.000           17.0\n",
      "1  16/12/2006  17:25:00  ...          1.000           16.0\n",
      "2  16/12/2006  17:26:00  ...          2.000           17.0\n",
      "3  16/12/2006  17:27:00  ...          1.000           17.0\n",
      "4  16/12/2006  17:28:00  ...          1.000           17.0\n",
      "\n",
      "[5 rows x 9 columns]\n",
      "/home/prank/Documents/DataScience/DS_PowerPulse/notebooks/../src/clean_data.py:35: FutureWarning: 'H' is deprecated and will be removed in a future version, please use 'h' instead.\n",
      "  df = df.resample('H').mean()\n",
      "✅ Cleaned data saved to: /home/prank/Documents/DataScience/DS_PowerPulse/data/cleaned.csv\n"
     ]
    }
   ],
   "source": [
    "!python ../src/load_data.py    # step 1a: loads and saves preprocessed data\n",
    "!python ../src/clean_data.py   # step 1b: clean and saves preprocessed data\n"
   ]
  },
  {
   "cell_type": "code",
   "execution_count": 32,
   "id": "58ce4cd9",
   "metadata": {},
   "outputs": [
    {
     "name": "stdout",
     "output_type": "stream",
     "text": [
      "Features saved to /home/prank/Documents/DataScience/DS_PowerPulse/data/features.csv\n",
      "                     Global_active_power  ...  Sub_metering_3\n",
      "datetime_full                             ...                \n",
      "2006-12-16 17:00:00             4.222889  ...       16.861111\n",
      "2006-12-16 18:00:00             3.632200  ...       16.866667\n",
      "2006-12-16 19:00:00             3.400233  ...       16.683333\n",
      "2006-12-16 20:00:00             3.268567  ...       16.783333\n",
      "2006-12-16 21:00:00             3.056467  ...       17.216667\n",
      "\n",
      "[5 rows x 7 columns]\n"
     ]
    }
   ],
   "source": [
    "!python ../src/preprocess.py   # step 2: cleans & resamples, outputs cleaned.csv\n",
    "!python ../src/features.py     # step 3: creates features, outputs features.csv\n"
   ]
  },
  {
   "cell_type": "code",
   "execution_count": 37,
   "id": "1d774a17",
   "metadata": {},
   "outputs": [
    {
     "name": "stdout",
     "output_type": "stream",
     "text": [
      "Columns in features.csv: ['Global_active_power', 'lag_1', 'lag_24', 'lag_168', 'roll_mean_24', 'roll_std_24']\n",
      "                     Global_active_power     lag_1  ...  roll_mean_24  roll_std_24\n",
      "datetime_full                                       ...                           \n",
      "2006-12-23 17:00:00             5.452533  4.349100  ...      3.099713     1.066674\n",
      "2006-12-23 18:00:00             3.879400  5.452533  ...      3.149397     1.074356\n",
      "2006-12-23 19:00:00             4.117833  3.879400  ...      3.156883     1.080699\n",
      "2006-12-23 20:00:00             4.181400  4.117833  ...      3.183772     1.098426\n",
      "2006-12-23 21:00:00             3.288433  4.181400  ...      3.131263     1.059784\n",
      "\n",
      "[5 rows x 6 columns]\n",
      "(34000, 6)\n",
      "/home/prank/anaconda3/envs/dsp_env/lib/python3.10/site-packages/statsmodels/tsa/base/tsa_model.py:473: ValueWarning: A date index has been provided, but it has no associated frequency information and so will be ignored when e.g. forecasting.\n",
      "  self._init_dates(dates, freq)\n",
      "/home/prank/anaconda3/envs/dsp_env/lib/python3.10/site-packages/statsmodels/tsa/base/tsa_model.py:473: ValueWarning: A date index has been provided, but it has no associated frequency information and so will be ignored when e.g. forecasting.\n",
      "  self._init_dates(dates, freq)\n",
      "/home/prank/anaconda3/envs/dsp_env/lib/python3.10/site-packages/statsmodels/tsa/base/tsa_model.py:473: ValueWarning: A date index has been provided, but it has no associated frequency information and so will be ignored when e.g. forecasting.\n",
      "  self._init_dates(dates, freq)\n",
      "/home/prank/anaconda3/envs/dsp_env/lib/python3.10/site-packages/statsmodels/base/model.py:607: ConvergenceWarning: Maximum Likelihood optimization failed to converge. Check mle_retvals\n",
      "  warnings.warn(\"Maximum Likelihood optimization failed to \"\n",
      "ARIMA model saved to /home/prank/Documents/DataScience/DS_PowerPulse/src/arima_model.pkl\n",
      "[INFO] Looking for features file at: /home/prank/Documents/DataScience/DS_PowerPulse/data/features.csv\n",
      "[INFO] Saving model to: /home/prank/Documents/DataScience/DS_PowerPulse/src/rf_model.pkl\n",
      "[DEBUG] Reading CSV: /home/prank/Documents/DataScience/DS_PowerPulse/data/features.csv\n",
      "[SUCCESS] Random Forest model saved to /home/prank/Documents/DataScience/DS_PowerPulse/src/rf_model.pkl\n"
     ]
    }
   ],
   "source": [
    "!python ../src/model_arima.py  # step 4a: trains ARIMA, saves arima_model.pkl\n",
    "!python ../src/model_rf.py     # step 4b: trains RF, saves rf_model.pkl\n"
   ]
  },
  {
   "cell_type": "code",
   "execution_count": null,
   "id": "e667226b",
   "metadata": {},
   "outputs": [
    {
     "name": "stdout",
     "output_type": "stream",
     "text": [
      "/home/prank/anaconda3/envs/dsp_env/lib/python3.10/site-packages/statsmodels/tsa/base/tsa_model.py:837: ValueWarning: No supported index is available. Prediction results will be given with an integer index beginning at `start`.\n",
      "  return get_prediction_index(\n",
      "/home/prank/anaconda3/envs/dsp_env/lib/python3.10/site-packages/statsmodels/tsa/base/tsa_model.py:837: FutureWarning: No supported index is available. In the next version, calling this method in a model without a supported index will result in an exception.\n",
      "  return get_prediction_index(\n",
      "ARIMA MAE: 0.7927, RMSE: 0.9150\n",
      "RF MAE: 0.1363, RMSE: 0.1937\n",
      "✅ Saved plot to /home/prank/Documents/DataScience/DS_PowerPulse/notebooks/../src/../outputs/cleaned_timeseries.png\n",
      "✅ Saved plot to /home/prank/Documents/DataScience/DS_PowerPulse/notebooks/../src/../outputs/features_timeseries.png\n"
     ]
    }
   ],
   "source": [
    "!python ../src/evaluate.py     # step 5: evaluates both models, prints MAE/RMSE"
   ]
  },
  {
   "cell_type": "code",
   "execution_count": null,
   "id": "5902cae9",
   "metadata": {},
   "outputs": [],
   "source": [
    "!python ../src/visualize.py    # step 6: plots forecasts vs actual\n"
   ]
  }
 ],
 "metadata": {
  "kernelspec": {
   "display_name": "dsp_env",
   "language": "python",
   "name": "python3"
  },
  "language_info": {
   "codemirror_mode": {
    "name": "ipython",
    "version": 3
   },
   "file_extension": ".py",
   "mimetype": "text/x-python",
   "name": "python",
   "nbconvert_exporter": "python",
   "pygments_lexer": "ipython3",
   "version": "3.10.17"
  }
 },
 "nbformat": 4,
 "nbformat_minor": 5
}
